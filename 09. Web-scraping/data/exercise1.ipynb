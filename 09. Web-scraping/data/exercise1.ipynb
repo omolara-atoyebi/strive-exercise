{
 "cells": [
  {
   "cell_type": "code",
   "execution_count": 36,
   "metadata": {},
   "outputs": [
    {
     "name": "stdout",
     "output_type": "stream",
     "text": [
      "['Tuesday', 'Tuesday Night', 'Wednesday', 'Wednesday Night', 'Thursday', 'Thursday Night', 'Friday', 'Friday Night', 'Saturday', 'Saturday Night']\n"
     ]
    }
   ],
   "source": [
    "import html.parser\n",
    "import requests\n",
    "from bs4 import BeautifulSoup\n",
    "page = requests.get(\"https://forecast.weather.gov/MapClick.php?x=276&y=148&site=lox&zmx=&zmy=&map_x=276&map_y=148#.YgEz-7pBxD-\")\n",
    "soup = BeautifulSoup(page.content,'html.parser')\n",
    "def weather(soup,tag, class_ ):\n",
    "\n",
    "    tag_list = soup.find_all(tag,class_= class_)\n",
    "    #print(len(tag_list))\n",
    "    #day = div[0:11].find_all('b')\n",
    "    list_ = []\n",
    "    for i in tag_list[1:11]:\n",
    "        list_.append(i.get_text()) \n",
    "    return list_  \n",
    "days = weather(soup, 'div','col-sm-2 forecast-label')\n",
    "print(days)\n",
    "\n",
    "\n",
    "\n"
   ]
  },
  {
   "cell_type": "code",
   "execution_count": null,
   "metadata": {},
   "outputs": [],
   "source": [
    "description= weather(soup, 'div','col-sm-10 forecast-text')\n",
    "print(description)"
   ]
  },
  {
   "cell_type": "code",
   "execution_count": null,
   "metadata": {},
   "outputs": [],
   "source": [
    "temp_high = weather(soup, 'div','tombstone-container')\n",
    "print(temp_high)"
   ]
  }
 ],
 "metadata": {
  "interpreter": {
   "hash": "b959af8eed21187e60ba702cd3a97a88d40ab7a7d5f0cec1d3cc47da26e57183"
  },
  "kernelspec": {
   "display_name": "Python 3.8.12 ('strive')",
   "language": "python",
   "name": "python3"
  },
  "language_info": {
   "codemirror_mode": {
    "name": "ipython",
    "version": 3
   },
   "file_extension": ".py",
   "mimetype": "text/x-python",
   "name": "python",
   "nbconvert_exporter": "python",
   "pygments_lexer": "ipython3",
   "version": "3.8.12"
  },
  "orig_nbformat": 4
 },
 "nbformat": 4,
 "nbformat_minor": 2
}
