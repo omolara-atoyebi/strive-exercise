{
 "cells": [
  {
   "cell_type": "code",
   "execution_count": null,
   "metadata": {},
   "outputs": [],
   "source": [
    "import html.parser\n",
    "import requests\n",
    "from bs4 import BeautifulSoup\n",
    "page = requests.get(\"https://forecast.weather.gov/MapClick.php?x=276&y=148&site=lox&zmx=&zmy=&map_x=276&map_y=148#.YgEz-7pBxD-\")\n",
    "soup = BeautifulSoup(page.content,'html.parser')\n",
    "day = soup.find('div',id=\"detailed-forecast-body\")"
   ]
  }
 ],
 "metadata": {
  "language_info": {
   "name": "python"
  },
  "orig_nbformat": 4
 },
 "nbformat": 4,
 "nbformat_minor": 2
}
