{
 "cells": [
  {
   "cell_type": "code",
   "execution_count": 94,
   "metadata": {},
   "outputs": [
    {
     "name": "stderr",
     "output_type": "stream",
     "text": [
      "C:\\Users\\omolara\\AppData\\Local\\Temp/ipykernel_11616/990994231.py:8: DeprecationWarning: executable_path has been deprecated, please pass in a Service object\n",
      "  driver = webdriver.Chrome(path)\n",
      "C:\\Users\\omolara\\AppData\\Local\\Temp/ipykernel_11616/990994231.py:10: DeprecationWarning: find_elements_by_* commands are deprecated. Please use find_elements() instead\n",
      "  summary = driver.find_elements_by_class_name('DailyForecast--DisclosureList--msYIJ')\n"
     ]
    },
    {
     "name": "stdout",
     "output_type": "stream",
     "text": [
      "[<selenium.webdriver.remote.webelement.WebElement (session=\"54476581f6c9aa55db36e76c23031c71\", element=\"fe1ff4ad-6721-4ca9-9aad-2a96e5c67f9b\")>]\n"
     ]
    },
    {
     "data": {
      "text/plain": [
       "['Tue 08 | Day', '', '', '', '', '', '', '', '', '']"
      ]
     },
     "execution_count": 94,
     "metadata": {},
     "output_type": "execute_result"
    }
   ],
   "source": [
    "import selenium\n",
    "from selenium import webdriver\n",
    "from selenium.webdriver.common.keys import Keys\n",
    "from selenium.webdriver.common.by import By\n",
    "from time import sleep\n",
    "url = \"https://weather.com/weather/tenday/l/San+Francisco+CA?canonicalCityId=dfdaba8cbe3a4d12a8796e1f7b1ccc7174b4b0a2d5ddb1c8566ae9f154fa638c\"\n",
    "path = \"C:\\\\Users\\\\omolara\\\\Documents\\\\strive school\\\\strive-exercise\\\\09. Web-scraping\\\\chromedriver.exe\"\n",
    "driver = webdriver.Chrome(path)\n",
    "driver.get(url)\n",
    "summary = driver.find_elements_by_class_name('DailyForecast--DisclosureList--msYIJ')\n",
    "\n",
    "print(summary)\n",
    "#driver.find_elements_by_xpath('/html/body/div[1]/main/div[2]/main/div[1]/section/div[2]')\n",
    "#//*[@id=\"detailIndex0\"]/div/div[1]/h3/span\n",
    "def weather():\n",
    "    newsum = []\n",
    "    for el in summary:\n",
    "        for i in range(10):\n",
    "            day_time= el.find_element_by_xpath(f'.//*[@id=\"detailIndex{i}\"]/div/div[1]/h3')\n",
    "            newsum.append(day_time.text)\n",
    "    return newsum\n",
    "        \n",
    "weather()\n",
    "    #newsum_ = newsum.replace('\\n',\" \")\n",
    "    #print(newsum_)\n",
    "    #print(el.text)"
   ]
  },
  {
   "cell_type": "code",
   "execution_count": null,
   "metadata": {},
   "outputs": [],
   "source": [
    "/html/body/div[1]/main/div[2]/main/div[1]/section/div[2]/details[2]/div/div[1]/h3/span\n",
    "/html/body/div[1]/main/div[2]/main/div[1]/section/div[2]/details[1]/div/div[3]/h3/span\n",
    "//*[@id=\"detailIndex0\"]/div/div[3]/h3/span\n"
   ]
  },
  {
   "cell_type": "code",
   "execution_count": 65,
   "metadata": {},
   "outputs": [
    {
     "name": "stdout",
     "output_type": "stream",
     "text": [
      "['\\nTuesday\\nSunnyHigh: 78 °F', '\\nTuesdayNight\\nMostly ClearLow: 54 °F', '\\nWednesday\\nSunnyHigh: 86 °F', '\\nWednesdayNight\\nMostly ClearLow: 55 °F', '\\nThursday\\nSunnyHigh: 88 °F', '\\nThursdayNight\\nClearLow: 56 °F', '\\nFriday\\nSunnyHigh: 86 °F', '\\nFridayNight\\nMostly ClearLow: 55 °F']\n"
     ]
    }
   ],
   "source": [
    "//*[@id=\"detailIndex1\"]/div/div[1]/h3 - tue\n",
    "//*[@id=\"detailIndex0\"]/div/div[1]/h3 - wed\n",
    "//*[@id=\"detailIndex2\"]/div/div[1]/h3 -thurs"
   ]
  }
 ],
 "metadata": {
  "interpreter": {
   "hash": "b959af8eed21187e60ba702cd3a97a88d40ab7a7d5f0cec1d3cc47da26e57183"
  },
  "kernelspec": {
   "display_name": "Python 3.8.12 ('strive')",
   "language": "python",
   "name": "python3"
  },
  "language_info": {
   "codemirror_mode": {
    "name": "ipython",
    "version": 3
   },
   "file_extension": ".py",
   "mimetype": "text/x-python",
   "name": "python",
   "nbconvert_exporter": "python",
   "pygments_lexer": "ipython3",
   "version": "3.8.12"
  },
  "orig_nbformat": 4
 },
 "nbformat": 4,
 "nbformat_minor": 2
}
