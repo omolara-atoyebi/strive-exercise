{
 "cells": [
  {
   "cell_type": "code",
   "execution_count": 1,
   "metadata": {},
   "outputs": [
    {
     "name": "stderr",
     "output_type": "stream",
     "text": [
      "C:\\Users\\omolara\\AppData\\Local\\Temp/ipykernel_49172/733044089.py:8: DeprecationWarning: executable_path has been deprecated, please pass in a Service object\n",
      "  driver = webdriver.Chrome(path)\n",
      "C:\\Users\\omolara\\AppData\\Local\\Temp/ipykernel_49172/733044089.py:10: DeprecationWarning: find_elements_by_* commands are deprecated. Please use find_elements() instead\n",
      "  summary = driver.find_elements_by_class_name('DailyForecast--DisclosureList--msYIJ')\n",
      "C:\\Users\\omolara\\anaconda3\\envs\\strive\\lib\\site-packages\\selenium\\webdriver\\remote\\webelement.py:393: UserWarning: find_element_by_* commands are deprecated. Please use find_element() instead\n",
      "  warnings.warn(\"find_element_by_* commands are deprecated. Please use find_element() instead\")\n"
     ]
    },
    {
     "name": "stdout",
     "output_type": "stream",
     "text": [
      "[<selenium.webdriver.remote.webelement.WebElement (session=\"d0c01dba9a2be95868376e14f8fe9954\", element=\"8fda70cd-b78b-41e2-8cac-bc805423e5a6\")>]\n"
     ]
    },
    {
     "data": {
      "text/plain": [
       "['Sun 20 | Night\\n44°\\n1%\\nNW 14 mph\\nGenerally clear skies. Low 44F. Winds NW at 10 to 20 mph.\\nHumidity\\n64%\\nUV Index\\n0 of 10\\nMoonrise\\n10:21 pm\\nWaning Gibbous\\nMoonset\\n9:11 am',\n",
       " 'Mon 21\\n55°\\n/44°\\nMostly Sunny/Wind\\n5%\\nWNW 21 mph',\n",
       " 'Tue 22\\n51°\\n/40°\\nPartly Cloudy\\n24%\\nWNW 16 mph',\n",
       " 'Wed 23\\n54°\\n/39°\\nSunny\\n2%\\nNW 12 mph',\n",
       " 'Thu 24\\n55°\\n/40°\\nSunny\\n4%\\nWSW 9 mph',\n",
       " 'Fri 25\\n58°\\n/41°\\nPartly Cloudy\\n5%\\nNNW 9 mph',\n",
       " 'Sat 26\\n62°\\n/44°\\nPartly Cloudy\\n4%\\nNNE 7 mph',\n",
       " 'Sun 27\\n61°\\n/45°\\nPartly Cloudy\\n11%\\nNNW 7 mph',\n",
       " 'Mon 28\\n62°\\n/47°\\nPartly Cloudy\\n6%\\nWSW 10 mph',\n",
       " 'Tue 01\\n63°\\n/48°\\nPartly Cloudy\\n15%\\nWSW 10 mph']"
      ]
     },
     "execution_count": 1,
     "metadata": {},
     "output_type": "execute_result"
    }
   ],
   "source": [
    "import selenium\n",
    "from selenium import webdriver\n",
    "from selenium.webdriver.common.keys import Keys\n",
    "from selenium.webdriver.common.by import By\n",
    "from time import sleep\n",
    "url = \"https://weather.com/weather/tenday/l/San+Francisco+CA?canonicalCityId=dfdaba8cbe3a4d12a8796e1f7b1ccc7174b4b0a2d5ddb1c8566ae9f154fa638c\"\n",
    "path = \"C:\\\\Users\\\\omolara\\\\Documents\\\\strive school\\\\strive-exercise\\\\09. Web-scraping\\\\chromedriver.exe\"\n",
    "driver = webdriver.Chrome(path)\n",
    "driver.get(url)\n",
    "summary = driver.find_elements_by_class_name('DailyForecast--DisclosureList--msYIJ')\n",
    "\n",
    "print(summary)\n",
    "#driver.find_elements_by_xpath('/html/body/div[1]/main/div[2]/main/div[1]/section/div[2]')\n",
    "#//*[@id=\"detailIndex0\"]/div/div[1]/h3/span\n",
    "def weather():\n",
    "    newsum = []\n",
    "    for el in summary:\n",
    "        for i in range(0,10):\n",
    "            day_time= el.find_element_by_xpath(f'//*[@id=\"detailIndex{i}\"]')\n",
    "            #day_time= el.find_element_by_xpath(f'//*[@id=\"detailIndex{i}\"]/div/div[1]/h3')\n",
    "            newsum.append(day_time.text)\n",
    "    return newsum\n",
    "        \n",
    "weather()\n",
    "    #newsum_ = newsum.replace('\\n',\" \")\n",
    "    #print(newsum_)\n",
    "    #print(el.text)"
   ]
  },
  {
   "cell_type": "code",
   "execution_count": null,
   "metadata": {},
   "outputs": [],
   "source": []
  },
  {
   "cell_type": "code",
   "execution_count": null,
   "metadata": {},
   "outputs": [],
   "source": [
    "/html/body/div[1]/main/div[2]/main/div[1]/section/div[2]/details[2]/div/div[1]/h3/span\n",
    "/html/body/div[1]/main/div[2]/main/div[1]/section/div[2]/details[1]/div/div[3]/h3/span\n",
    "//*[@id=\"detailIndex0\"]/div/div[3]/h3/span\n"
   ]
  },
  {
   "cell_type": "code",
   "execution_count": 65,
   "metadata": {},
   "outputs": [
    {
     "name": "stdout",
     "output_type": "stream",
     "text": [
      "['\\nTuesday\\nSunnyHigh: 78 °F', '\\nTuesdayNight\\nMostly ClearLow: 54 °F', '\\nWednesday\\nSunnyHigh: 86 °F', '\\nWednesdayNight\\nMostly ClearLow: 55 °F', '\\nThursday\\nSunnyHigh: 88 °F', '\\nThursdayNight\\nClearLow: 56 °F', '\\nFriday\\nSunnyHigh: 86 °F', '\\nFridayNight\\nMostly ClearLow: 55 °F']\n"
     ]
    }
   ],
   "source": [
    "//*[@id=\"detailIndex0\"]/div/div[1]/h3 - wed\n",
    "//*[@id=\"detailIndex1\"]/div/div[1]/h3 - tue\n",
    "//*[@id=\"detailIndex2\"]/div/div[1]/h3 -thurs"
   ]
  }
 ],
 "metadata": {
  "interpreter": {
   "hash": "b959af8eed21187e60ba702cd3a97a88d40ab7a7d5f0cec1d3cc47da26e57183"
  },
  "kernelspec": {
   "display_name": "Python 3.8.12 ('strive')",
   "language": "python",
   "name": "python3"
  },
  "language_info": {
   "codemirror_mode": {
    "name": "ipython",
    "version": 3
   },
   "file_extension": ".py",
   "mimetype": "text/x-python",
   "name": "python",
   "nbconvert_exporter": "python",
   "pygments_lexer": "ipython3",
   "version": "3.8.12"
  },
  "orig_nbformat": 4
 },
 "nbformat": 4,
 "nbformat_minor": 2
}
