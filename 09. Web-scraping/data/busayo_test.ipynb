{
 "cells": [
  {
   "cell_type": "code",
   "execution_count": null,
   "metadata": {},
   "outputs": [],
   "source": [
    "import selenium\n",
    "from selenium import webdriver\n",
    "from selenium.webdriver.common.keys import Keys\n",
    "from selenium.webdriver.common.by import By\n",
    "from time import sleep\n",
    "url = \"https://weather.com/weather/tenday/l/San+Francisco+CA?canonicalCityId=dfdaba8cbe3a4d12a8796e1f7b1ccc7174b4b0a2d5ddb1c8566ae9f154fa638c\"\n",
    "path = \"C:\\\\Users\\\\omolara\\\\Documents\\\\strive school\\\\strive-exercise\\\\09. Web-scraping\\\\chromedriver.exe\"\n",
    "driver = webdriver.Chrome(path)\n",
    "driver.get(url)\n",
    "sleep(3)\n",
    "driver.find_element_by_css_selector('#truste-consent-button').click()\n",
    "sleep(5)\n",
    "new_day =[]\n",
    "for i in range (0,11):\n",
    "    daydate = driver.find_element(By.XPATH,f'/html/body/div[1]/main/div[2]/main/div[1]/section/div[2]/details[{i}]/div/div[1]/h3/span')\n",
    "    new_day.append(daydate.text)\n",
    "print(new_day)\n",
    "sleep(2)"
   ]
  },
  {
   "cell_type": "code",
   "execution_count": null,
   "metadata": {},
   "outputs": [],
   "source": []
  },
  {
   "cell_type": "code",
   "execution_count": null,
   "metadata": {},
   "outputs": [],
   "source": [
    "/html/body/div[1]/main/div[2]/main/div[1]/section/div[2]/details[8]/div/div[1]/h3/span\n",
    "/html/body/div[1]/main/div[2]/main/div[1]/section/div[2]/details[9]/div/div[1]/h3/span\n",
    "/html/body/div[1]/main/div[2]/main/div[1]/section/div[2]/details[8]/div/div[1]/h3\n",
    "/html/body/div[1]/main/div[2]/main/div[1]/section/div[2]/details[14]/div/div[1]/h3/span"
   ]
  },
  {
   "cell_type": "code",
   "execution_count": null,
   "metadata": {},
   "outputs": [],
   "source": [
    "/html/body/div[1]/main/div[2]/main/div[1]/section/div[2]/details[8]/summary\n",
    "/html/body/div[1]/main/div[2]/main/div[1]/section/div[2]/details[9]/summary"
   ]
  }
 ],
 "metadata": {
  "interpreter": {
   "hash": "b959af8eed21187e60ba702cd3a97a88d40ab7a7d5f0cec1d3cc47da26e57183"
  },
  "kernelspec": {
   "display_name": "Python 3.8.12 ('strive')",
   "language": "python",
   "name": "python3"
  },
  "language_info": {
   "codemirror_mode": {
    "name": "ipython",
    "version": 3
   },
   "file_extension": ".py",
   "mimetype": "text/x-python",
   "name": "python",
   "nbconvert_exporter": "python",
   "pygments_lexer": "ipython3",
   "version": "3.8.12"
  },
  "orig_nbformat": 4
 },
 "nbformat": 4,
 "nbformat_minor": 2
}
