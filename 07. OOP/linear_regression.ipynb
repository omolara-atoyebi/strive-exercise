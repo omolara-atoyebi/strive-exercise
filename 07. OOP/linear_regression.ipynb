{
 "cells": [
  {
   "cell_type": "code",
   "execution_count": 2,
   "metadata": {},
   "outputs": [],
   "source": [
    "import numpy as np\n",
    "class MyLinearRegression:\n",
    "    \n",
    "    def __init__(self, intercept,x , y,fit_intercept = True):\n",
    "        self.intercept = intercept\n",
    "        self.x = x\n",
    "        self.y = y\n",
    "        self.fit_intercept = True\n",
    "    \n",
    "    def __str__(self):\n",
    "      return \"i am a linear regression model\"\n",
    "    \n",
    "    def fit(self, X, y):\n",
    "        \"\"\"\n",
    "        Fit model coefficients.\n",
    "\n",
    "        Arguments:\n",
    "        X: 1D or 2D numpy array \n",
    "        y: 1D numpy array\n",
    "        \"\"\"\n",
    "        \n",
    "        # check if X is 1D or 2D array\n",
    "        \n",
    "        # YOUR CODE HERE\n",
    "\n",
    "        # Assign X and y to two new attributes\n",
    "        # YOUR CODE HERE\n",
    "        \n",
    "            \n",
    "        # adding bias if fit_intercept is True\n",
    "        if self.fit_intercept:\n",
    "            X_biased = np.c_[np.ones(self.X.shape[0]), self.X]#\n",
    "        else:\n",
    "            X_biased = self.X"
   ]
  }
 ],
 "metadata": {
  "interpreter": {
   "hash": "77d62469401feb9fb72e52b3625907709e2f62803734f7ac28bec618c4adbb1d"
  },
  "kernelspec": {
   "display_name": "Python 3.9.10 64-bit (windows store)",
   "language": "python",
   "name": "python3"
  },
  "language_info": {
   "codemirror_mode": {
    "name": "ipython",
    "version": 3
   },
   "file_extension": ".py",
   "mimetype": "text/x-python",
   "name": "python",
   "nbconvert_exporter": "python",
   "pygments_lexer": "ipython3",
   "version": "3.8.12"
  },
  "orig_nbformat": 4
 },
 "nbformat": 4,
 "nbformat_minor": 2
}
