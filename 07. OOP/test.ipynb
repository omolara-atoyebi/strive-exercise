{
 "cells": [
  {
   "cell_type": "code",
   "execution_count": 3,
   "metadata": {},
   "outputs": [
    {
     "name": "stdout",
     "output_type": "stream",
     "text": [
      "[1, 3, 99, 100, 120, 32, 330, 23, 76, 44, 31]\n"
     ]
    }
   ],
   "source": [
    "import math\n",
    "file_name = \"numbers.txt\"\n",
    "data_list = []\n",
    "with open(file_name) as fp:\n",
    "    line = fp.readline()\n",
    "    while line :\n",
    "        data_list.append(int(line))\n",
    "        line = fp.readline()\n",
    "print(data_list)"
   ]
  },
  {
   "cell_type": "code",
   "execution_count": 16,
   "metadata": {},
   "outputs": [
    {
     "name": "stdout",
     "output_type": "stream",
     "text": [
      "[1, 3, 99, 100, 120, 32, 330, 23, 76, 44, 31]\n"
     ]
    }
   ],
   "source": [
    "data_list_2 = []\n",
    "with open(file_name) as fp2:\n",
    "    content = fp2.read()\n",
    "content = content.split()\n",
    "for i in content:\n",
    "    data_list_2.append(int(i))\n",
    "print(data_list_2)"
   ]
  },
  {
   "cell_type": "code",
   "execution_count": 4,
   "metadata": {},
   "outputs": [
    {
     "name": "stdout",
     "output_type": "stream",
     "text": [
      "78.0909090909091\n"
     ]
    }
   ],
   "source": [
    "mu = sum(data_list)/len(data_list)  \n",
    "print(mu) "
   ]
  },
  {
   "cell_type": "code",
   "execution_count": 24,
   "metadata": {},
   "outputs": [
    {
     "name": "stdout",
     "output_type": "stream",
     "text": [
      "92.87459776004906\n"
     ]
    }
   ],
   "source": [
    "sigma= 5\n",
    "\n",
    "def calculate_stdev(sample=True):\n",
    "    deviation= 0\n",
    "    for i in range(len(data_list)):\n",
    "        no_of_items = len(data_list)\n",
    "        if sample == True:\n",
    "            no_of_items -= 1\n",
    "        sqr_diff = (((data_list[i] - mu)**2))/no_of_items\n",
    "        deviation += sqr_diff\n",
    "        sigma = math.sqrt(deviation)\n",
    "    return sigma\n",
    "print(calculate_stdev())"
   ]
  }
 ],
 "metadata": {
  "interpreter": {
   "hash": "b959af8eed21187e60ba702cd3a97a88d40ab7a7d5f0cec1d3cc47da26e57183"
  },
  "kernelspec": {
   "display_name": "Python 3.8.12 64-bit ('strive': conda)",
   "language": "python",
   "name": "python3"
  },
  "language_info": {
   "codemirror_mode": {
    "name": "ipython",
    "version": 3
   },
   "file_extension": ".py",
   "mimetype": "text/x-python",
   "name": "python",
   "nbconvert_exporter": "python",
   "pygments_lexer": "ipython3",
   "version": "3.8.12"
  },
  "orig_nbformat": 4
 },
 "nbformat": 4,
 "nbformat_minor": 2
}
