{
 "cells": [
  {
   "cell_type": "markdown",
   "metadata": {},
   "source": [
    "3. Strive School Challenge:\n",
    "   In this challenge you need to code a function that receives a list of numbers and returns:\n",
    "\n",
    "   Strive if the number is divisible by 3\n",
    "   School if the number is divisible by 5\n",
    "   Strive School if the number is divisible by 3 and 5\n",
    "   the number itself otherwise\n",
    "   i. e. strive_school([1, 2, 3, 5, 15]) outputs [1, 2, Strive, School, Strive School]"
   ]
  },
  {
   "cell_type": "code",
   "execution_count": 11,
   "metadata": {},
   "outputs": [
    {
     "data": {
      "text/plain": [
       "[1, 2, 'strive', 4, 'strive school', 17]"
      ]
     },
     "execution_count": 11,
     "metadata": {},
     "output_type": "execute_result"
    }
   ],
   "source": [
    "#function from previous exercise using python\n",
    "def strive_school(num):\n",
    "    #num = [1, 2, 3, 4, 5, 6, 7, 8, 9, 10, 11, 12, 13,14, 15, 16]\n",
    "    #for i in range (1,17)\n",
    "    \n",
    "    x = []\n",
    "    for i in num:\n",
    "\n",
    "        if i%3 == 0 and i%5 == 0 :\n",
    "            #print(\"strive school\")\n",
    "            x.append( \"strive school\")\n",
    "        elif i%3 == 0:\n",
    "            #print (\"strive\")\n",
    "            x.append(\"strive\")\n",
    "\n",
    "        elif i%5 == 0:\n",
    "            #print(\"school\")\n",
    "            x.append( \"school\")\n",
    "        else:\n",
    "            #print(i)\n",
    "            x.append(i)\n",
    "       \n",
    "    return x\n",
    "#how can i put the answer in a list\n",
    "strive_school([1,2,3,4,15,17])"
   ]
  },
  {
   "cell_type": "code",
   "execution_count": null,
   "metadata": {},
   "outputs": [],
   "source": [
    "import math\n",
    "import numpy as np\n",
    "class strive_school:\n",
    "    def __init__(self,num):\n",
    "        self.num = np.arange(1,num)\n",
    "        print(self.num)\n",
    "    def divisible_number(self):\n",
    "        x = []\n",
    "        for i in self.num:\n",
    "            if i%3 == 0 and i%5 == 0 :\n",
    "            #print(\"strive school\")\n",
    "                x.append( \"strive school\")\n",
    "            elif i%3 == 0:\n",
    "            #print (\"strive\")\n",
    "                x.append(\"strive\")\n",
    "\n",
    "            elif i%5 == 0:\n",
    "            #print(\"school\")\n",
    "                x.append( \"school\")\n",
    "            else:\n",
    "            #print(i)\n",
    "                x.append(i)\n",
    "        return x\n",
    "dv = strive_school(20)\n",
    "print(dv.divisible_number())\n"
   ]
  },
  {
   "cell_type": "markdown",
   "metadata": {},
   "source": [
    "**Exercise 5.2:** Write and test three functions that return the largest, the smallest, and the number of dividables by 3 in a given collection of numbers. Use the algorithm described earlier in the Part 5 lecture :)"
   ]
  },
  {
   "cell_type": "code",
   "execution_count": 31,
   "metadata": {},
   "outputs": [
    {
     "name": "stdout",
     "output_type": "stream",
     "text": [
      "The smallest number is 2\n",
      "6 is divisible by 3\n",
      "12 is divisible by 3\n",
      "15 is divisible by 3\n",
      "99 is divisible by 3\n",
      "The largest number is 100\n"
     ]
    }
   ],
   "source": [
    "def main():\n",
    "    a = [2, 4, 6, 12, 15, 99,100]\n",
    "    for i in a:\n",
    "        if i == max(a):\n",
    "            print(f\"The largest number is {i}\")\n",
    "        elif i == min(a):\n",
    "            print(f\"The smallest number is {i}\")\n",
    "        elif i%3 == 0:\n",
    "            print(f\"{i} is divisible by 3\")\n",
    "    return\n",
    "main()"
   ]
  },
  {
   "cell_type": "code",
   "execution_count": 27,
   "metadata": {},
   "outputs": [
    {
     "name": "stdout",
     "output_type": "stream",
     "text": [
      "The smallest number is 2\n",
      "6 is divisible by 3\n",
      "12 is divisible by 3\n",
      "15 is divisible by 3\n",
      "99 is divisible by 3\n",
      "The largest number is 100\n",
      "None\n"
     ]
    }
   ],
   "source": [
    "import math\n",
    "import numpy\n",
    "class function:\n",
    "    \n",
    "    def __init__(self,list = [2, 4, 6, 12, 15, 99,100]):\n",
    "        self.list = list\n",
    "    def divisible_by_3(self):\n",
    "       \n",
    "        for i in self.list:\n",
    "            if i == max(self.list):\n",
    "                print(f\"The largest number is {i}\")\n",
    "            elif i == min(self.list):\n",
    "                print(f\"The smallest number is {i}\")\n",
    "            elif i%3 == 0:\n",
    "                print(f\"{i} is divisible by 3\")\n",
    "        return\n",
    "ab = function()\n",
    "print(ab.divisible_by_3())\n"
   ]
  }
 ],
 "metadata": {
  "interpreter": {
   "hash": "b959af8eed21187e60ba702cd3a97a88d40ab7a7d5f0cec1d3cc47da26e57183"
  },
  "kernelspec": {
   "display_name": "Python 3.8.12 64-bit ('strive': conda)",
   "language": "python",
   "name": "python3"
  },
  "language_info": {
   "codemirror_mode": {
    "name": "ipython",
    "version": 3
   },
   "file_extension": ".py",
   "mimetype": "text/x-python",
   "name": "python",
   "nbconvert_exporter": "python",
   "pygments_lexer": "ipython3",
   "version": "3.8.12"
  },
  "orig_nbformat": 4
 },
 "nbformat": 4,
 "nbformat_minor": 2
}
