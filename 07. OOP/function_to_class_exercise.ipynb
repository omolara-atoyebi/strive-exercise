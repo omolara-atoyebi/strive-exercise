{
 "cells": [
  {
   "cell_type": "markdown",
   "metadata": {},
   "source": [
    "3. Strive School Challenge:\n",
    "   In this challenge you need to code a function that receives a list of numbers and returns:\n",
    "\n",
    "   Strive if the number is divisible by 3\n",
    "   School if the number is divisible by 5\n",
    "   Strive School if the number is divisible by 3 and 5\n",
    "   the number itself otherwise\n",
    "   i. e. strive_school([1, 2, 3, 5, 15]) outputs [1, 2, Strive, School, Strive School]"
   ]
  },
  {
   "cell_type": "code",
   "execution_count": 11,
   "metadata": {},
   "outputs": [
    {
     "data": {
      "text/plain": [
       "[1, 2, 'strive', 4, 'strive school', 17]"
      ]
     },
     "execution_count": 11,
     "metadata": {},
     "output_type": "execute_result"
    }
   ],
   "source": [
    "#function from previous exercise using python\n",
    "def strive_school(num):\n",
    "    #num = [1, 2, 3, 4, 5, 6, 7, 8, 9, 10, 11, 12, 13,14, 15, 16]\n",
    "    #for i in range (1,17)\n",
    "    \n",
    "    x = []\n",
    "    for i in num:\n",
    "\n",
    "        if i%3 == 0 and i%5 == 0 :\n",
    "            #print(\"strive school\")\n",
    "            x.append( \"strive school\")\n",
    "        elif i%3 == 0:\n",
    "            #print (\"strive\")\n",
    "            x.append(\"strive\")\n",
    "\n",
    "        elif i%5 == 0:\n",
    "            #print(\"school\")\n",
    "            x.append( \"school\")\n",
    "        else:\n",
    "            #print(i)\n",
    "            x.append(i)\n",
    "       \n",
    "    return x\n",
    "#how can i put the answer in a list\n",
    "strive_school([1,2,3,4,15,17])"
   ]
  },
  {
   "cell_type": "code",
   "execution_count": 12,
   "metadata": {},
   "outputs": [
    {
     "name": "stdout",
     "output_type": "stream",
     "text": [
      "[ 1  2  3  4  5  6  7  8  9 10 11 12 13 14 15 16 17 18 19]\n",
      "[1, 2, 'strive', 4, 'school', 'strive', 7, 8, 'strive', 'school', 11, 'strive', 13, 14, 'strive school', 16, 17, 'strive', 19]\n"
     ]
    }
   ],
   "source": [
    "# using a class in oop\n",
    "import math\n",
    "import numpy as np\n",
    "class strive_school:\n",
    "    def __init__(self,num):\n",
    "        self.num = np.arange(1,num)\n",
    "        print(self.num)\n",
    "    def divisible_number(self):\n",
    "        x = []\n",
    "        for i in self.num:\n",
    "            if i%3 == 0 and i%5 == 0 :\n",
    "            #print(\"strive school\")\n",
    "                x.append( \"strive school\")\n",
    "            elif i%3 == 0:\n",
    "            #print (\"strive\")\n",
    "                x.append(\"strive\")\n",
    "\n",
    "            elif i%5 == 0:\n",
    "            #print(\"school\")\n",
    "                x.append( \"school\")\n",
    "            else:\n",
    "            #print(i)\n",
    "                x.append(i)\n",
    "        return x\n",
    "dv = strive_school(20)\n",
    "print(dv.divisible_number())\n"
   ]
  }
 ],
 "metadata": {
  "interpreter": {
   "hash": "b959af8eed21187e60ba702cd3a97a88d40ab7a7d5f0cec1d3cc47da26e57183"
  },
  "kernelspec": {
   "display_name": "Python 3.8.12 64-bit ('strive': conda)",
   "language": "python",
   "name": "python3"
  },
  "language_info": {
   "codemirror_mode": {
    "name": "ipython",
    "version": 3
   },
   "file_extension": ".py",
   "mimetype": "text/x-python",
   "name": "python",
   "nbconvert_exporter": "python",
   "pygments_lexer": "ipython3",
   "version": "3.8.12"
  },
  "orig_nbformat": 4
 },
 "nbformat": 4,
 "nbformat_minor": 2
}
