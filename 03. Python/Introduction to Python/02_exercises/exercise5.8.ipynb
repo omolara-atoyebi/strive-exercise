{
 "cells": [
  {
   "cell_type": "markdown",
   "metadata": {},
   "source": [
    "**Exercise 5.8 (🌶️):** A, B, C, and D are all different digits. The number DCBA is equal to 4 times the number ABCD. What are the digits? Note: to make ABCD and DCBA conventional numbers, neither A nor D can be zero. Use a quadruple-nested loop."
   ]
  },
  {
   "cell_type": "code",
   "execution_count": 3,
   "metadata": {},
   "outputs": [],
   "source": [
    "#4*abcd == dcba\n",
    "def nested_nest():\n",
    "    for a in range(1,10):\n",
    "        for b in range(1,10):\n",
    "            for c in range(1,10):\n",
    "                for d in range(1,10):\n",
    "                    if (4*(a+10*b+100*c+1000*d)) == d*1000+c*100+b*10+a:\n",
    "                        print(a, b, c, d)\n",
    "    \n",
    "nested_nest()"
   ]
  }
 ],
 "metadata": {
  "interpreter": {
   "hash": "b959af8eed21187e60ba702cd3a97a88d40ab7a7d5f0cec1d3cc47da26e57183"
  },
  "kernelspec": {
   "display_name": "Python 3.8.12 64-bit ('strive': conda)",
   "language": "python",
   "name": "python3"
  },
  "language_info": {
   "codemirror_mode": {
    "name": "ipython",
    "version": 3
   },
   "file_extension": ".py",
   "mimetype": "text/x-python",
   "name": "python",
   "nbconvert_exporter": "python",
   "pygments_lexer": "ipython3",
   "version": "3.8.12"
  },
  "orig_nbformat": 4
 },
 "nbformat": 4,
 "nbformat_minor": 2
}
