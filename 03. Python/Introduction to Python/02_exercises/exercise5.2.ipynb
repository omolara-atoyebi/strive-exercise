{
 "cells": [
  {
   "cell_type": "markdown",
   "metadata": {},
   "source": [
    "**Exercise 5.2:** Write and test three functions that return the largest, the smallest, and the number of dividables by 3 in a given collection of numbers. Use the algorithm described earlier in the Part 5 lecture :)"
   ]
  },
  {
   "cell_type": "code",
   "execution_count": null,
   "metadata": {},
   "outputs": [],
   "source": [
    "# Your functions\n",
    "\n",
    "def main():\n",
    "    a = [2, 4, 6, 12, 15, 99,100]\n",
    "    for i in a:\n",
    "        if i == max(a):\n",
    "            print(f\"The largest number is {i}\")\n",
    "        elif i == min(a):\n",
    "            print(f\"The smallest number is {i}\")\n",
    "        elif i%3 == 0:\n",
    "            print(f\"{i} is divisible by 3\")\n",
    "    return"
   ]
  }
 ],
 "metadata": {
  "language_info": {
   "name": "python"
  },
  "orig_nbformat": 4
 },
 "nbformat": 4,
 "nbformat_minor": 2
}
