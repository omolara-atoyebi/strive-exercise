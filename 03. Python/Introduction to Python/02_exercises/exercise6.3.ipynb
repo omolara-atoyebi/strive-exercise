{
 "cells": [
  {
   "cell_type": "markdown",
   "metadata": {},
   "source": [
    "**Exercise 6.3:** In the text below, count how often the word \"wood\" occurs (using program code, of course). Capitals and lower case letters may both be used, and you have to consider that the word \"wood\" should be a separate word, and not part of another word. Hint: If you did the exercises from this chapter, you already developed a function that \"cleans\" a text. Combining that function with the `split()` function more or less solves the problem for you."
   ]
  },
  {
   "cell_type": "code",
   "execution_count": null,
   "metadata": {},
   "outputs": [],
   "source": [
    "text = \"\"\"How much wood would a woodchuck chuck\n",
    "If a woodchuck could chuck wood?\n",
    "He would chuck, he would, as much as he could,\n",
    "And chuck as much as a woodchuck would\n",
    "If a Mr. Smith could chuck wood\\n\\r\\t.\"\"\"\n",
    "text = text.replace('\\n',\" \")\n",
    "text = text.replace('\\r',\"\")\n",
    "text = text.replace('\\t',\"\")\n",
    "text = text.replace('?', \" \")\n",
    "text= text.replace('.', \"\")\n",
    "text= text.replace(',', \"\")\n",
    "text = text.lower()\n",
    "new_text = text.split()\n",
    "print(new_text )\n",
    "def wood_counter(new_text):\n",
    "    print(new_text.count('wood'))\n",
    "wood_counter(new_text)\n"
   ]
  },
  {
   "cell_type": "code",
   "execution_count": 9,
   "metadata": {},
   "outputs": [
    {
     "name": "stdout",
     "output_type": "stream",
     "text": [
      "['1, 4, 5', '4, 6, 8']\n"
     ]
    }
   ],
   "source": [
    "\n",
    "test_list = [ '[1, 4, 5]', '[4, 6, 8]' ]\n",
    "res = [i.strip(\" ][\") for i in test_list]\n",
    "print(res)"
   ]
  },
  {
   "cell_type": "code",
   "execution_count": 1,
   "metadata": {},
   "outputs": [],
   "source": [
    "from re import A\n",
    "import pandas as pd \n",
    "from bs4 import BeautifulSoup\n",
    "import html.parser\n",
    "from time import sleep\n",
    "import matplotlib.pyplot as plt"
   ]
  },
  {
   "cell_type": "code",
   "execution_count": 18,
   "metadata": {},
   "outputs": [
    {
     "name": "stdout",
     "output_type": "stream",
     "text": [
      "                        movie_title  \\\n",
      "0           Spider-Man: No Way Home   \n",
      "1                          Eternals   \n",
      "2                             Dyyni   \n",
      "3                     The Last Duel   \n",
      "4          The Matrix Resurrections   \n",
      "..                              ...   \n",
      "95  Harry Potter ja Feeniksin kilta   \n",
      "96     Star Wars: The Force Awakens   \n",
      "97                     The Avengers   \n",
      "98                     Blade Runner   \n",
      "99                 The Tomorrow War   \n",
      "\n",
      "                                          description  Release date  \\\n",
      "0   With Spider-Man's identity now revealed, Peter...          2021   \n",
      "1   The saga of the Eternals, a race of immortal b...          2021   \n",
      "2   Feature adaptation of Frank Herbert's science ...          2021   \n",
      "3   King Charles VI declares that Knight Jean de C...          2021   \n",
      "4   Return to a world of two realities: one, every...          2021   \n",
      "..                                                ...           ...   \n",
      "95  With their warning about Lord Voldemort's retu...          2007   \n",
      "96  As a new threat to the galaxy rises, Rey, a de...          2015   \n",
      "97  Earth's mightiest heroes must come together an...          2012   \n",
      "98  A blade runner must pursue and terminate four ...          1982   \n",
      "99  A family man is drafted to fight in a future w...          2021   \n",
      "\n",
      "       Director name  Rating  Duration                       Genre  \\\n",
      "0          Jon Watts     8.7       148  Action, Adventure, Fantasy   \n",
      "1         Chloé Zhao     6.4       156  Action, Adventure, Fantasy   \n",
      "2   Denis Villeneuve     8.1       155    Action, Adventure, Drama   \n",
      "3       Ridley Scott     7.4       152      Action, Drama, History   \n",
      "4     Lana Wachowski     5.7       148              Action, Sci-Fi   \n",
      "..               ...     ...       ...                         ...   \n",
      "95       David Yates     7.5       138   Action, Adventure, Family   \n",
      "96       J.J. Abrams     7.8       138   Action, Adventure, Sci-Fi   \n",
      "97       Joss Whedon     8.0       143   Action, Adventure, Sci-Fi   \n",
      "98      Ridley Scott     8.1       117       Action, Drama, Sci-Fi   \n",
      "99       Chris McKay     6.6       138    Action, Adventure, Drama   \n",
      "\n",
      "                                                Stars  \n",
      "0   Tom Holland, Zendaya, Benedict Cumberbatch, Ja...  \n",
      "1   Gemma Chan, Richard Madden, Angelina Jolie, Sa...  \n",
      "2   Timothée Chalamet, Rebecca Ferguson, Zendaya, ...  \n",
      "3   Matt Damon, Adam Driver, Jodie Comer, Harriet ...  \n",
      "4   Keanu Reeves, Carrie-Anne Moss, Yahya Abdul-Ma...  \n",
      "..                                                ...  \n",
      "95  Daniel Radcliffe, Emma Watson, Rupert Grint, B...  \n",
      "96  Daisy Ridley, John Boyega, Oscar Isaac, Domhna...  \n",
      "97  Robert Downey Jr., Chris Evans, Scarlett Johan...  \n",
      "98  Harrison Ford, Rutger Hauer, Sean Young, Edwar...  \n",
      "99  Chris Pratt, Yvonne Strahovski, J.K. Simmons, ...  \n",
      "\n",
      "[100 rows x 8 columns]\n"
     ]
    }
   ],
   "source": [
    "df = pd.read_csv(r'C:\\Users\\omolara\\Documents\\strive school\\extra exercise\\file1.csv')\n",
    "print(df)\n"
   ]
  },
  {
   "cell_type": "code",
   "execution_count": 19,
   "metadata": {},
   "outputs": [
    {
     "name": "stderr",
     "output_type": "stream",
     "text": [
      "C:\\Users\\omolara\\AppData\\Local\\Temp/ipykernel_50064/1766879890.py:1: FutureWarning: Indexing with multiple keys (implicitly converted to a tuple of keys) will be deprecated, use a list instead.\n",
      "  a=df.groupby('Director name')['Rating', 'movie_title']\n"
     ]
    }
   ],
   "source": [
    "a=df.groupby('Director name')['Rating', 'movie_title']\n",
    "df2 = pd.DataFrame(a)\n",
    "df2.reset_index(inplace= True)"
   ]
  },
  {
   "cell_type": "code",
   "execution_count": 22,
   "metadata": {},
   "outputs": [
    {
     "data": {
      "text/html": [
       "<div>\n",
       "<style scoped>\n",
       "    .dataframe tbody tr th:only-of-type {\n",
       "        vertical-align: middle;\n",
       "    }\n",
       "\n",
       "    .dataframe tbody tr th {\n",
       "        vertical-align: top;\n",
       "    }\n",
       "\n",
       "    .dataframe thead th {\n",
       "        text-align: right;\n",
       "    }\n",
       "</style>\n",
       "<table border=\"1\" class=\"dataframe\">\n",
       "  <thead>\n",
       "    <tr style=\"text-align: right;\">\n",
       "      <th></th>\n",
       "      <th>movie_title</th>\n",
       "      <th>description</th>\n",
       "      <th>Release date</th>\n",
       "      <th>Director name</th>\n",
       "      <th>Rating</th>\n",
       "      <th>Duration</th>\n",
       "      <th>Genre</th>\n",
       "      <th>Stars</th>\n",
       "    </tr>\n",
       "  </thead>\n",
       "  <tbody>\n",
       "    <tr>\n",
       "      <th>0</th>\n",
       "      <td>Spider-Man: No Way Home</td>\n",
       "      <td>With Spider-Man's identity now revealed, Peter...</td>\n",
       "      <td>2021</td>\n",
       "      <td>Jon Watts</td>\n",
       "      <td>8.7</td>\n",
       "      <td>148</td>\n",
       "      <td>Action, Adventure, Fantasy</td>\n",
       "      <td>Tom Holland, Zendaya, Benedict Cumberbatch, Ja...</td>\n",
       "    </tr>\n",
       "    <tr>\n",
       "      <th>18</th>\n",
       "      <td>Spider-Man: Homecoming</td>\n",
       "      <td>Peter Parker balances his life as an ordinary ...</td>\n",
       "      <td>2017</td>\n",
       "      <td>Jon Watts</td>\n",
       "      <td>7.4</td>\n",
       "      <td>133</td>\n",
       "      <td>Action, Adventure, Sci-Fi</td>\n",
       "      <td>Tom Holland, Michael Keaton, Robert Downey Jr....</td>\n",
       "    </tr>\n",
       "    <tr>\n",
       "      <th>25</th>\n",
       "      <td>Spider-Man: Far from Home</td>\n",
       "      <td>Following the events of Avengers: Endgame (201...</td>\n",
       "      <td>2019</td>\n",
       "      <td>Jon Watts</td>\n",
       "      <td>7.4</td>\n",
       "      <td>129</td>\n",
       "      <td>Action, Adventure, Sci-Fi</td>\n",
       "      <td>Tom Holland, Samuel L. Jackson, Jake Gyllenhaa...</td>\n",
       "    </tr>\n",
       "  </tbody>\n",
       "</table>\n",
       "</div>"
      ],
      "text/plain": [
       "                  movie_title  \\\n",
       "0     Spider-Man: No Way Home   \n",
       "18     Spider-Man: Homecoming   \n",
       "25  Spider-Man: Far from Home   \n",
       "\n",
       "                                          description  Release date  \\\n",
       "0   With Spider-Man's identity now revealed, Peter...          2021   \n",
       "18  Peter Parker balances his life as an ordinary ...          2017   \n",
       "25  Following the events of Avengers: Endgame (201...          2019   \n",
       "\n",
       "   Director name  Rating  Duration                       Genre  \\\n",
       "0      Jon Watts     8.7       148  Action, Adventure, Fantasy   \n",
       "18     Jon Watts     7.4       133   Action, Adventure, Sci-Fi   \n",
       "25     Jon Watts     7.4       129   Action, Adventure, Sci-Fi   \n",
       "\n",
       "                                                Stars  \n",
       "0   Tom Holland, Zendaya, Benedict Cumberbatch, Ja...  \n",
       "18  Tom Holland, Michael Keaton, Robert Downey Jr....  \n",
       "25  Tom Holland, Samuel L. Jackson, Jake Gyllenhaa...  "
      ]
     },
     "execution_count": 22,
     "metadata": {},
     "output_type": "execute_result"
    }
   ],
   "source": [
    "b = df.loc[df['Director name'] == 'Jon Watts']\n",
    "b.sort_values('Rating', ascending= False)\n"
   ]
  },
  {
   "cell_type": "code",
   "execution_count": 28,
   "metadata": {},
   "outputs": [
    {
     "name": "stdout",
     "output_type": "stream",
     "text": [
      "Spider-Man: No Way Home\n"
     ]
    }
   ],
   "source": [
    "def author_name(name: str):\n",
    "    b = df.loc[df['Director name'] == name]\n",
    "    c = b.sort_values('Rating', ascending= False)\n",
    "    return c.iloc[0, 0]\n",
    "print(author_name('Jon Watts'))"
   ]
  }
 ],
 "metadata": {
  "interpreter": {
   "hash": "b959af8eed21187e60ba702cd3a97a88d40ab7a7d5f0cec1d3cc47da26e57183"
  },
  "kernelspec": {
   "display_name": "Python 3.8.12 64-bit ('strive': conda)",
   "language": "python",
   "name": "python3"
  },
  "language_info": {
   "codemirror_mode": {
    "name": "ipython",
    "version": 3
   },
   "file_extension": ".py",
   "mimetype": "text/x-python",
   "name": "python",
   "nbconvert_exporter": "python",
   "pygments_lexer": "ipython3",
   "version": "3.8.12"
  },
  "orig_nbformat": 4
 },
 "nbformat": 4,
 "nbformat_minor": 2
}
