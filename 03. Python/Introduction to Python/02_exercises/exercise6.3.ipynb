{
 "cells": [
  {
   "cell_type": "markdown",
   "metadata": {},
   "source": [
    "**Exercise 6.3:** In the text below, count how often the word \"wood\" occurs (using program code, of course). Capitals and lower case letters may both be used, and you have to consider that the word \"wood\" should be a separate word, and not part of another word. Hint: If you did the exercises from this chapter, you already developed a function that \"cleans\" a text. Combining that function with the `split()` function more or less solves the problem for you."
   ]
  },
  {
   "cell_type": "code",
   "execution_count": 19,
   "metadata": {},
   "outputs": [
    {
     "name": "stdout",
     "output_type": "stream",
     "text": [
      "Old String:\n",
      "'Hello, \n",
      "how are you\t?\n",
      "'\n",
      "New String:\n",
      "'Hello, how are you?'\n"
     ]
    }
   ],
   "source": [
    "string = \"Hello, \\nhow are you\\t?\\n\"\n",
    "print(\"Old String:\")\n",
    "print(\"'\" + string + \"'\")\n",
    "\n",
    "string = string.replace('\\n',\"\")\n",
    "string = string.replace('\\t',\"\")\n",
    "print(\"New String:\")\n",
    "print(\"'\" + string + \"'\")"
   ]
  },
  {
   "cell_type": "code",
   "execution_count": 41,
   "metadata": {},
   "outputs": [
    {
     "name": "stdout",
     "output_type": "stream",
     "text": [
      "['how', 'much', 'wood', 'would', 'a', 'woodchuck', 'chuck', 'if', 'a', 'woodchuck', 'could', 'chuck', 'wood', 'he', 'would', 'chuck', 'he', 'would', 'as', 'much', 'as', 'he', 'could', 'and', 'chuck', 'as', 'much', 'as', 'a', 'woodchuck', 'would', 'if', 'a', 'mr', 'smith', 'could', 'chuck', 'wood']\n",
      "3\n"
     ]
    }
   ],
   "source": [
    "text = \"\"\"How much wood would a woodchuck chuck\n",
    "If a woodchuck could chuck wood?\n",
    "He would chuck, he would, as much as he could,\n",
    "And chuck as much as a woodchuck would\n",
    "If a Mr. Smith could chuck wood\\n\\r\\t.\"\"\"\n",
    "text = text.replace('\\n',\" \")\n",
    "text = text.replace('\\r',\"\")\n",
    "text = text.replace('\\t',\"\")\n",
    "text = text.replace('?', \" \")\n",
    "text= text.replace('.', \"\")\n",
    "text= text.replace(',', \"\")\n",
    "text = text.lower()\n",
    "new_text = text.split()\n",
    "print(new_text )\n",
    "#def wood_counter(new_text):\n",
    "    #new_text.count('wood')\n",
    "#wood_counter(new_text)\n",
    "wood_counter = new_text.count('wood')\n",
    "print(wood_counter)"
   ]
  }
 ],
 "metadata": {
  "interpreter": {
   "hash": "b959af8eed21187e60ba702cd3a97a88d40ab7a7d5f0cec1d3cc47da26e57183"
  },
  "kernelspec": {
   "display_name": "Python 3.8.12 64-bit ('strive': conda)",
   "language": "python",
   "name": "python3"
  },
  "language_info": {
   "codemirror_mode": {
    "name": "ipython",
    "version": 3
   },
   "file_extension": ".py",
   "mimetype": "text/x-python",
   "name": "python",
   "nbconvert_exporter": "python",
   "pygments_lexer": "ipython3",
   "version": "3.8.12"
  },
  "orig_nbformat": 4
 },
 "nbformat": 4,
 "nbformat_minor": 2
}
