{
 "cells": [
  {
   "cell_type": "markdown",
   "metadata": {},
   "source": [
    "1. Pyramid Challenge:\n",
    "In this challenge you need to code a function that receives a number print out this pyramid:"
   ]
  },
  {
   "cell_type": "code",
   "execution_count": 7,
   "metadata": {},
   "outputs": [
    {
     "name": "stdout",
     "output_type": "stream",
     "text": [
      "#\n",
      "##\n",
      "###\n",
      "####\n",
      "#####\n"
     ]
    }
   ],
   "source": [
    "def pyramid(k):\n",
    "    for x in range(0,k):\n",
    "        for y in range(0,x+1):\n",
    "            print(\"#\", end =\"\")\n",
    "        print(\"\\r\")\n",
    "pyramid(5)"
   ]
  },
  {
   "cell_type": "markdown",
   "metadata": {},
   "source": [
    "2. Inverted Pyramid Challenge:\n",
    "In this challenge you need to code a function that receives a number print out this pyramid:"
   ]
  },
  {
   "cell_type": "code",
   "execution_count": 6,
   "metadata": {},
   "outputs": [
    {
     "name": "stdout",
     "output_type": "stream",
     "text": [
      "     #\n",
      "    ##\n",
      "   ###\n",
      "  ####\n",
      " #####\n"
     ]
    }
   ],
   "source": [
    "def pyramid_inv(k):\n",
    "    for x in range(0,k):\n",
    "        for y in range(0,k-x):\n",
    "            print(\" \",end =\"\")\n",
    "        for z in range(0,x+1):\n",
    "            print(\"#\", end=\"\")\n",
    "        print(\"\\r\")\n",
    "pyramid_inv(5)"
   ]
  },
  {
   "cell_type": "markdown",
   "metadata": {},
   "source": [
    "3. Strive School Challenge:\n",
    "   In this challenge you need to code a function that receives a list of numbers and returns:\n",
    "\n",
    "   Strive if the number is divisible by 3\n",
    "   School if the number is divisible by 5\n",
    "   Strive School if the number is divisible by 3 and 5\n",
    "   the number itself otherwise\n",
    "   i. e. strive_school([1, 2, 3, 5, 15]) outputs [1, 2, Strive, School, Strive School]"
   ]
  },
  {
   "cell_type": "code",
   "execution_count": 38,
   "metadata": {},
   "outputs": [
    {
     "name": "stdout",
     "output_type": "stream",
     "text": [
      "1\n",
      "2\n",
      "strive\n",
      "4\n",
      "school\n",
      "strive\n",
      "7\n",
      "8\n",
      "strive\n",
      "school\n",
      "11\n",
      "strive\n",
      "13\n",
      "14\n",
      "strive school\n",
      "16\n"
     ]
    }
   ],
   "source": [
    "def strive_school():\n",
    "    num = [1, 2, 3, 4, 5, 6, 7, 8, 9, 10, 11, 12, 13,14, 15, 16]\n",
    "    for i in num:\n",
    "        if i%3 == 0 and i%5 == 0 :\n",
    "            print(\"strive school\")\n",
    "        elif i%3 == 0:\n",
    "            print (\"strive\")\n",
    "        elif i%5 == 0:\n",
    "            print(\"school\")\n",
    "        else:\n",
    "            print(i)\n",
    "strive_school()"
   ]
  }
 ],
 "metadata": {
  "interpreter": {
   "hash": "b959af8eed21187e60ba702cd3a97a88d40ab7a7d5f0cec1d3cc47da26e57183"
  },
  "kernelspec": {
   "display_name": "Python 3.8.12 64-bit ('strive': conda)",
   "language": "python",
   "name": "python3"
  },
  "language_info": {
   "codemirror_mode": {
    "name": "ipython",
    "version": 3
   },
   "file_extension": ".py",
   "mimetype": "text/x-python",
   "name": "python",
   "nbconvert_exporter": "python",
   "pygments_lexer": "ipython3",
   "version": "3.8.12"
  },
  "orig_nbformat": 4
 },
 "nbformat": 4,
 "nbformat_minor": 2
}
