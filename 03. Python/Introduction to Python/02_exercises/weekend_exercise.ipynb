{
 "cells": [
  {
   "cell_type": "markdown",
   "metadata": {},
   "source": [
    "1. Pyramid Challenge:\n",
    "In this challenge you need to code a function that receives a number print out this pyramid:"
   ]
  },
  {
   "cell_type": "code",
   "execution_count": null,
   "metadata": {},
   "outputs": [],
   "source": [
    "def pyramid_inv(k):\n",
    "    for x in range(0,k):\n",
    "        for y in range(0,x+1):\n",
    "            print(\"#\", end =\"\")\n",
    "        print(\"\\r\")\n",
    "pyramid_inv(5)"
   ]
  },
  {
   "cell_type": "markdown",
   "metadata": {},
   "source": [
    "2. Inverted Pyramid Challenge:\n",
    "In this challenge you need to code a function that receives a number print out this pyramid:"
   ]
  },
  {
   "cell_type": "code",
   "execution_count": null,
   "metadata": {},
   "outputs": [],
   "source": [
    "def pyramid_inv(k):\n",
    "    for x in range(0,k):\n",
    "        for y in range(0,k-x):\n",
    "            print(\" \",end =\"\")\n",
    "        for z in range(0,x+1):\n",
    "            print(\"#\", end=\"\")\n",
    "        print(\"\\r\")\n",
    "pyramid_inv(5)"
   ]
  },
  {
   "cell_type": "markdown",
   "metadata": {},
   "source": [
    "3. Strive School Challenge:\n",
    "   In this challenge you need to code a function that receives a list of numbers and returns:\n",
    "\n",
    "   Strive if the number is divisible by 3\n",
    "   School if the number is divisible by 5\n",
    "   Strive School if the number is divisible by 3 and 5\n",
    "   the number itself otherwise\n",
    "   i. e. strive_school([1, 2, 3, 5, 15]) outputs [1, 2, Strive, School, Strive School]"
   ]
  },
  {
   "cell_type": "code",
   "execution_count": 1,
   "metadata": {},
   "outputs": [
    {
     "name": "stdout",
     "output_type": "stream",
     "text": [
      "1\n",
      "2\n",
      "strive\n",
      "4\n",
      "school\n",
      "strive\n",
      "7\n",
      "8\n",
      "strive\n",
      "school\n",
      "11\n",
      "strive\n",
      "13\n",
      "14\n",
      "strive school\n",
      "16\n",
      "17\n",
      "strive\n",
      "19\n",
      "school\n",
      "strive\n",
      "22\n",
      "23\n",
      "strive\n",
      "school\n",
      "26\n",
      "strive\n",
      "28\n",
      "29\n",
      "strive school\n",
      "31\n",
      "32\n",
      "strive\n",
      "34\n",
      "school\n",
      "strive\n",
      "37\n",
      "38\n",
      "strive\n",
      "school\n",
      "41\n",
      "strive\n",
      "43\n",
      "44\n",
      "strive school\n",
      "46\n",
      "47\n",
      "strive\n",
      "49\n",
      "school\n",
      "strive\n",
      "52\n",
      "53\n",
      "strive\n",
      "school\n",
      "56\n",
      "strive\n",
      "58\n",
      "59\n",
      "strive school\n",
      "61\n",
      "62\n",
      "strive\n",
      "64\n",
      "school\n",
      "strive\n",
      "67\n",
      "68\n",
      "strive\n",
      "school\n",
      "71\n",
      "strive\n",
      "73\n",
      "74\n",
      "strive school\n",
      "76\n",
      "77\n",
      "strive\n",
      "79\n",
      "school\n",
      "strive\n",
      "82\n",
      "83\n",
      "strive\n",
      "school\n",
      "86\n",
      "strive\n",
      "88\n",
      "89\n",
      "strive school\n",
      "91\n",
      "92\n",
      "strive\n",
      "94\n",
      "school\n",
      "strive\n",
      "97\n",
      "98\n",
      "strive\n"
     ]
    }
   ],
   "source": [
    "def strive_school():\n",
    "    for i in range (1,100):\n",
    "        if i%3 == 0 and i%5 == 0 :\n",
    "            print(\"strive school\")\n",
    "        elif i%3 == 0:\n",
    "            print (\"strive\")\n",
    "        elif i%5 == 0:\n",
    "            print(\"school\")\n",
    "        else:\n",
    "            print(i)\n",
    "strive_school()"
   ]
  },
  {
   "cell_type": "markdown",
   "metadata": {},
   "source": [
    "4. Non Duplicated Challenge:\n",
    "    In this challenge you need to code a function that receives a list of numbers and returns the non-duplicated number:\n",
    "\n",
    " \n",
    "\n",
    "    i. e. function_whatever([1, 1, 2, 2, 3, 5, 5, 6, 6]) outputs 3\n",
    "\n",
    "    i. e. function_whatever([1, 2, 2, 3, 3]) outputs 1"
   ]
  },
  {
   "cell_type": "code",
   "execution_count": 4,
   "metadata": {},
   "outputs": [
    {
     "name": "stdout",
     "output_type": "stream",
     "text": [
      "[3]\n"
     ]
    }
   ],
   "source": [
    "my_list = [1, 1, 2, 2, 3, 5, 5, 6, 6]\n",
    "non_duplicate_list = [i for i in my_list if my_list.count(i) == 1]\n",
    "print(non_duplicate_list)"
   ]
  },
  {
   "cell_type": "markdown",
   "metadata": {},
   "source": [
    "5. Secret Agent Challenge:\n",
    "    The goal of this task is to write a function that is able to find the Secret Agent (if any) in a group of people.\n",
    "\n",
    "    The function's parameters are the number of the people and a list of pairs (a list of two elements) with the following scheme:\n",
    "\n",
    "    the first element of the pair is the name of the person who has information about the person in the second element of the pair. Example: [[felix, lara], [felix, jeno], [lara, jeno]] means that  Felix has information about Jeno and Lara, then Lara has information about Jeno.\n",
    "    \n",
    "    Rules:\n",
    "\n",
    "    A Secret Agent is the person that has information about all the other people, but no one has information about the Secret Agent.\n",
    "\n",
    "    So, in the previous example Felix has information about all the others, but no one has information about Felix -> Felix is the Secret Agent.\n",
    "\n",
    "    You have to return:\n",
    "\n",
    "    the Secret Agent (if any): [[felix, lara], [felix, jeno], [lara, jeno]] -> returns felix | [[felix, lara], [lara, jeno], [lara, felix]] -> returns lara\n",
    "    0 if there isn't a Secret Agent ([[felix, lara], [lara, jeno], [jeno, felix]] -> returns 0) \n",
    "    if the number of the people is less or equals to 0, or the length of the list is grater than the number of the people or if the length of the pair is not 2 -> returns -1"
   ]
  },
  {
   "cell_type": "code",
   "execution_count": null,
   "metadata": {},
   "outputs": [],
   "source": [
    "def secret_agent()"
   ]
  }
 ],
 "metadata": {
  "interpreter": {
   "hash": "b959af8eed21187e60ba702cd3a97a88d40ab7a7d5f0cec1d3cc47da26e57183"
  },
  "kernelspec": {
   "display_name": "Python 3.8.12 64-bit ('strive': conda)",
   "language": "python",
   "name": "python3"
  },
  "language_info": {
   "codemirror_mode": {
    "name": "ipython",
    "version": 3
   },
   "file_extension": ".py",
   "mimetype": "text/x-python",
   "name": "python",
   "nbconvert_exporter": "python",
   "pygments_lexer": "ipython3",
   "version": "3.8.12"
  },
  "orig_nbformat": 4
 },
 "nbformat": 4,
 "nbformat_minor": 2
}
