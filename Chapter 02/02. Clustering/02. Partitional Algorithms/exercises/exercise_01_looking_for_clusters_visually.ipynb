{
 "cells": [
  {
   "cell_type": "markdown",
   "metadata": {},
   "source": [
    "# Exercise 1: Looking for clusters visually"
   ]
  },
  {
   "cell_type": "markdown",
   "metadata": {},
   "source": [
    "You are given an array `points` of size 300x2, where each row gives the (x, y) co-ordinates of a point on a map.  Make a scatter plot of these points, and use the scatter plot to guess how many clusters there are."
   ]
  },
  {
   "cell_type": "markdown",
   "metadata": {},
   "source": [
    "**Step 1:** Load the dataset _(written for you)_."
   ]
  },
  {
   "cell_type": "code",
   "execution_count": 32,
   "metadata": {
    "collapsed": true,
    "exercise": false
   },
   "outputs": [
    {
     "data": {
      "text/html": [
       "<div>\n",
       "<style scoped>\n",
       "    .dataframe tbody tr th:only-of-type {\n",
       "        vertical-align: middle;\n",
       "    }\n",
       "\n",
       "    .dataframe tbody tr th {\n",
       "        vertical-align: top;\n",
       "    }\n",
       "\n",
       "    .dataframe thead th {\n",
       "        text-align: right;\n",
       "    }\n",
       "</style>\n",
       "<table border=\"1\" class=\"dataframe\">\n",
       "  <thead>\n",
       "    <tr style=\"text-align: right;\">\n",
       "      <th></th>\n",
       "      <th>0</th>\n",
       "      <th>1</th>\n",
       "    </tr>\n",
       "  </thead>\n",
       "  <tbody>\n",
       "    <tr>\n",
       "      <th>0</th>\n",
       "      <td>0.065446</td>\n",
       "      <td>-0.768664</td>\n",
       "    </tr>\n",
       "    <tr>\n",
       "      <th>1</th>\n",
       "      <td>-1.529015</td>\n",
       "      <td>-0.429531</td>\n",
       "    </tr>\n",
       "    <tr>\n",
       "      <th>2</th>\n",
       "      <td>1.709934</td>\n",
       "      <td>0.698853</td>\n",
       "    </tr>\n",
       "    <tr>\n",
       "      <th>3</th>\n",
       "      <td>1.167791</td>\n",
       "      <td>1.012626</td>\n",
       "    </tr>\n",
       "    <tr>\n",
       "      <th>4</th>\n",
       "      <td>-1.801101</td>\n",
       "      <td>-0.318613</td>\n",
       "    </tr>\n",
       "    <tr>\n",
       "      <th>...</th>\n",
       "      <td>...</td>\n",
       "      <td>...</td>\n",
       "    </tr>\n",
       "    <tr>\n",
       "      <th>295</th>\n",
       "      <td>0.356950</td>\n",
       "      <td>-1.150644</td>\n",
       "    </tr>\n",
       "    <tr>\n",
       "      <th>296</th>\n",
       "      <td>0.024822</td>\n",
       "      <td>-0.635948</td>\n",
       "    </tr>\n",
       "    <tr>\n",
       "      <th>297</th>\n",
       "      <td>-1.490756</td>\n",
       "      <td>-0.248251</td>\n",
       "    </tr>\n",
       "    <tr>\n",
       "      <th>298</th>\n",
       "      <td>-1.408588</td>\n",
       "      <td>0.256354</td>\n",
       "    </tr>\n",
       "    <tr>\n",
       "      <th>299</th>\n",
       "      <td>-1.982746</td>\n",
       "      <td>-0.545845</td>\n",
       "    </tr>\n",
       "  </tbody>\n",
       "</table>\n",
       "<p>300 rows × 2 columns</p>\n",
       "</div>"
      ],
      "text/plain": [
       "            0         1\n",
       "0    0.065446 -0.768664\n",
       "1   -1.529015 -0.429531\n",
       "2    1.709934  0.698853\n",
       "3    1.167791  1.012626\n",
       "4   -1.801101 -0.318613\n",
       "..        ...       ...\n",
       "295  0.356950 -1.150644\n",
       "296  0.024822 -0.635948\n",
       "297 -1.490756 -0.248251\n",
       "298 -1.408588  0.256354\n",
       "299 -1.982746 -0.545845\n",
       "\n",
       "[300 rows x 2 columns]"
      ]
     },
     "execution_count": 32,
     "metadata": {},
     "output_type": "execute_result"
    }
   ],
   "source": [
    "import pandas as pd\n",
    "\n",
    "df = pd.read_csv('../datasets/ch1ex1.csv')\n",
    "df\n",
    "#points = df.values\n"
   ]
  },
  {
   "cell_type": "markdown",
   "metadata": {},
   "source": [
    "**Step 2:** Import PyPlot"
   ]
  },
  {
   "cell_type": "code",
   "execution_count": 2,
   "metadata": {
    "collapsed": true
   },
   "outputs": [],
   "source": [
    "import matplotlib.pyplot as plt\n",
    "import numpy as np"
   ]
  },
  {
   "cell_type": "markdown",
   "metadata": {},
   "source": [
    "**Step 3:** Create an array called `xs` that contains the values of `points[:,0]` - that is, column `0` of `points`:"
   ]
  },
  {
   "cell_type": "code",
   "execution_count": 36,
   "metadata": {},
   "outputs": [
    {
     "data": {
      "text/html": [
       "<div>\n",
       "<style scoped>\n",
       "    .dataframe tbody tr th:only-of-type {\n",
       "        vertical-align: middle;\n",
       "    }\n",
       "\n",
       "    .dataframe tbody tr th {\n",
       "        vertical-align: top;\n",
       "    }\n",
       "\n",
       "    .dataframe thead th {\n",
       "        text-align: right;\n",
       "    }\n",
       "</style>\n",
       "<table border=\"1\" class=\"dataframe\">\n",
       "  <thead>\n",
       "    <tr style=\"text-align: right;\">\n",
       "      <th></th>\n",
       "      <th>x</th>\n",
       "      <th>y</th>\n",
       "    </tr>\n",
       "  </thead>\n",
       "  <tbody>\n",
       "    <tr>\n",
       "      <th>0</th>\n",
       "      <td>0.065446</td>\n",
       "      <td>-0.768664</td>\n",
       "    </tr>\n",
       "    <tr>\n",
       "      <th>1</th>\n",
       "      <td>-1.529015</td>\n",
       "      <td>-0.429531</td>\n",
       "    </tr>\n",
       "    <tr>\n",
       "      <th>2</th>\n",
       "      <td>1.709934</td>\n",
       "      <td>0.698853</td>\n",
       "    </tr>\n",
       "    <tr>\n",
       "      <th>3</th>\n",
       "      <td>1.167791</td>\n",
       "      <td>1.012626</td>\n",
       "    </tr>\n",
       "    <tr>\n",
       "      <th>4</th>\n",
       "      <td>-1.801101</td>\n",
       "      <td>-0.318613</td>\n",
       "    </tr>\n",
       "    <tr>\n",
       "      <th>...</th>\n",
       "      <td>...</td>\n",
       "      <td>...</td>\n",
       "    </tr>\n",
       "    <tr>\n",
       "      <th>295</th>\n",
       "      <td>0.356950</td>\n",
       "      <td>-1.150644</td>\n",
       "    </tr>\n",
       "    <tr>\n",
       "      <th>296</th>\n",
       "      <td>0.024822</td>\n",
       "      <td>-0.635948</td>\n",
       "    </tr>\n",
       "    <tr>\n",
       "      <th>297</th>\n",
       "      <td>-1.490756</td>\n",
       "      <td>-0.248251</td>\n",
       "    </tr>\n",
       "    <tr>\n",
       "      <th>298</th>\n",
       "      <td>-1.408588</td>\n",
       "      <td>0.256354</td>\n",
       "    </tr>\n",
       "    <tr>\n",
       "      <th>299</th>\n",
       "      <td>-1.982746</td>\n",
       "      <td>-0.545845</td>\n",
       "    </tr>\n",
       "  </tbody>\n",
       "</table>\n",
       "<p>300 rows × 2 columns</p>\n",
       "</div>"
      ],
      "text/plain": [
       "            x         y\n",
       "0    0.065446 -0.768664\n",
       "1   -1.529015 -0.429531\n",
       "2    1.709934  0.698853\n",
       "3    1.167791  1.012626\n",
       "4   -1.801101 -0.318613\n",
       "..        ...       ...\n",
       "295  0.356950 -1.150644\n",
       "296  0.024822 -0.635948\n",
       "297 -1.490756 -0.248251\n",
       "298 -1.408588  0.256354\n",
       "299 -1.982746 -0.545845\n",
       "\n",
       "[300 rows x 2 columns]"
      ]
     },
     "execution_count": 36,
     "metadata": {},
     "output_type": "execute_result"
    }
   ],
   "source": [
    "df.columns =['x' , 'y']\n",
    "df"
   ]
  },
  {
   "cell_type": "code",
   "execution_count": 38,
   "metadata": {
    "collapsed": true
   },
   "outputs": [
    {
     "data": {
      "text/plain": [
       "array([ 0.06544649, -1.52901547,  1.70993371,  1.16779145, -1.80110088,\n",
       "       -1.63567888,  1.21990375, -0.26175155, -1.61925804, -1.84329582,\n",
       "        1.35999602,  0.42291856, -1.68576139,  0.90629995, -1.56478322,\n",
       "       -0.0257849 ,  0.83027324,  1.22450432, -0.15394596,  0.86358809,\n",
       "       -1.43386366,  0.03844769, -1.58567922,  0.6359888 ,  0.24417242,\n",
       "       -2.19680359,  1.0323503 , -0.28858067,  0.20597008, -1.2107308 ,\n",
       "        1.33423684,  1.19480152,  0.9917477 , -1.8356219 ,  0.08415721,\n",
       "       -1.48970175,  0.38782418, -0.01448044, -2.0521341 ,  0.10331194,\n",
       "       -0.44189315,  1.10390926, -1.59227759, -1.47344152, -1.35514704,\n",
       "        0.0412337 ,  0.4761517 ,  1.04335676, -0.07961882,  0.87065059,\n",
       "        1.40267313,  0.80111157, -0.16527516, -0.33779221,  0.80610749,\n",
       "       -1.43590032,  0.54868895,  0.46803131, -1.5137129 ,  0.9138436 ,\n",
       "       -1.97233903,  0.5213406 ,  0.62759494,  0.94163014,  0.56994768,\n",
       "       -1.87663382,  0.90612186, -1.37481454, -1.80564029,  0.34307757,\n",
       "        0.70380566, -1.68489862,  1.31473221,  0.26151216,  0.9193121 ,\n",
       "       -1.21795929, -0.17722723,  0.64824862,  0.41206786,  1.01568202,\n",
       "        0.67900254, -1.05182747,  0.61306599, -1.50219748, -1.72717293,\n",
       "       -1.60995631, -1.09111021, -0.01046978,  0.32782303,  1.22038503,\n",
       "       -1.33328681,  0.87959517, -1.14829098, -0.58019755, -0.01161159,\n",
       "        0.17359724,  1.32738556, -1.93467327, -1.57761893,  0.47639   ,\n",
       "       -1.65237509, -0.12609976, -1.89607082,  0.57466899, -0.16660312,\n",
       "        0.8013355 ,  1.18455426,  1.08864428, -1.61158505, -1.57512205,\n",
       "        0.0721357 , -1.40054298,  1.09607713, -2.54346204, -1.34544875,\n",
       "       -1.35478629,  0.18368113, -1.31368677,  0.09990129,  1.17225574,\n",
       "        0.0865397 , -0.21053923,  0.26496024, -0.2557591 , -0.26039757,\n",
       "       -1.91787359,  0.93021139,  0.44770467, -1.63802869, -1.95712763,\n",
       "        0.9270337 ,  1.25660093, -1.72818632,  0.3499788 , -1.51696082,\n",
       "        0.18763605,  0.89609809, -1.54968857,  1.2157457 ,  0.20307745,\n",
       "        0.84589086,  0.53237919, -0.05319044,  1.38819743,  1.00696304,\n",
       "        0.56681869,  0.86888296, -1.16286609,  0.27717768,  0.16563267,\n",
       "        0.38263303,  1.14519807,  0.81455857, -1.8603152 ,  0.965641  ,\n",
       "       -1.49897451, -0.1335489 ,  0.12541527,  1.06062436, -1.49154578,\n",
       "        1.16189032,  0.54282033,  0.89221065, -1.49932011,  0.3166647 ,\n",
       "        0.13972469, -1.5499724 ,  1.23846858,  1.25558954,  0.25558689,\n",
       "        0.45168933,  1.06202057,  0.67451908,  0.22759676, -1.45835281,\n",
       "        0.23273501,  1.59679589,  0.80476105,  1.15492521,  0.59632776,\n",
       "        0.02839068,  1.13451584,  0.21576204,  1.41048987,  1.12289302,\n",
       "        0.25200688, -1.28566081,  1.52849815, -0.23907858, -0.25792784,\n",
       "        0.59367818,  0.07931909, -1.27256815,  0.66930129,  0.34791546,\n",
       "       -2.11283993, -1.6293824 , -1.53819139, -0.11988545, -1.54418956,\n",
       "        0.30026614,  0.00935449, -1.33424393,  0.47504489,  0.59313264,\n",
       "        0.41370369,  0.55840948,  0.49855018,  0.35675809, -1.86197825,\n",
       "       -1.61977671,  0.80779295,  1.62745775, -1.56993593,  1.02558561,\n",
       "        0.24293461,  1.23130242, -1.9651013 ,  0.42795032, -1.58306818,\n",
       "       -1.57195923, -0.98145373, -1.48637844,  0.98745828,  1.28619721,\n",
       "        0.85850596,  0.19028286,  0.26561046, -1.61897897,  0.24070183,\n",
       "        1.15220993, -1.21967812,  0.33412533,  0.17131003, -1.19828397,\n",
       "       -0.12245932,  1.51200698,  1.10338866,  1.30972095,  0.19964876,\n",
       "        0.81460515, -1.6422739 ,  0.01224351,  0.33709102,  0.47301054,\n",
       "        0.34706626, -0.00393279, -1.64303119,  1.44649625, -1.93030087,\n",
       "       -2.37296135,  0.45860122,  0.4896361 , -1.02335902, -1.32761107,\n",
       "       -1.50987909,  0.02723057,  1.0169412 ,  0.47733527, -1.27784224,\n",
       "        0.49898802,  1.06004731,  1.00207501,  1.31161394,  1.13428443,\n",
       "        1.27671346, -0.63342885,  0.12698779, -1.34510812, -0.53162278,\n",
       "        0.21959934, -1.78997479,  1.23197473,  1.4163536 , -1.90280976,\n",
       "       -0.22440081,  0.59559412,  1.21930773, -1.99427535, -1.27818474,\n",
       "        0.62352689,  0.14024251, -0.16145713, -1.74795865, -1.16659791,\n",
       "        0.41110408,  1.14757168, -1.65590748, -1.15306865,  0.60892121,\n",
       "       -0.08434138,  0.19170053,  0.29663162, -1.36893628, -0.08037807,\n",
       "        0.35695011,  0.02482179, -1.49075558, -1.408588  , -1.98274626])"
      ]
     },
     "execution_count": 38,
     "metadata": {},
     "output_type": "execute_result"
    }
   ],
   "source": [
    "xs = np.array(df['x'])\n",
    "xs"
   ]
  },
  {
   "cell_type": "markdown",
   "metadata": {},
   "source": [
    "**Step 3:** Create an array called `ys` that contains the values of `points[:,1]` - that is, column `1` of `points`"
   ]
  },
  {
   "cell_type": "code",
   "execution_count": 39,
   "metadata": {
    "collapsed": true
   },
   "outputs": [],
   "source": [
    "ys = np.array(df['y'])"
   ]
  },
  {
   "cell_type": "markdown",
   "metadata": {},
   "source": [
    "**Step 4:** Make a scatter plot by passing `xs` and `ys` to the `plt.scatter()` function."
   ]
  },
  {
   "cell_type": "code",
   "execution_count": 40,
   "metadata": {},
   "outputs": [
    {
     "data": {
      "text/plain": [
       "<matplotlib.collections.PathCollection at 0x1c26ee9af40>"
      ]
     },
     "execution_count": 40,
     "metadata": {},
     "output_type": "execute_result"
    },
    {
     "data": {
      "image/png": "[encoded data removed]",
      "text/plain": [
       "<Figure size 432x288 with 1 Axes>"
      ]
     },
     "metadata": {
      "needs_background": "light"
     },
     "output_type": "display_data"
    }
   ],
   "source": [
    "plt.scatter(xs, ys)"
   ]
  },
  {
   "cell_type": "markdown",
   "metadata": {},
   "source": [
    "**Step 5:** Call the `plt.show()` function to show your plot."
   ]
  },
  {
   "cell_type": "code",
   "execution_count": 29,
   "metadata": {},
   "outputs": [],
   "source": [
    "plt.show()"
   ]
  }
 ],
 "metadata": {
  "kernelspec": {
   "display_name": "Python 3",
   "language": "python",
   "name": "python3"
  },
  "language_info": {
   "codemirror_mode": {
    "name": "ipython",
    "version": 3
   },
   "file_extension": ".py",
   "mimetype": "text/x-python",
   "name": "python",
   "nbconvert_exporter": "python",
   "pygments_lexer": "ipython3",
   "version": "3.8.12"
  }
 },
 "nbformat": 4,
 "nbformat_minor": 1
}
