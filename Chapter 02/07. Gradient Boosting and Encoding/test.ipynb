{
 "cells": [
  {
   "cell_type": "code",
   "execution_count": 1,
   "metadata": {},
   "outputs": [],
   "source": [
    "from tkinter import X\n",
    "import pandas as pd\n",
    "from sklearn.preprocessing import OrdinalEncoder\n",
    "from sklearn.model_selection import train_test_split\n",
    "from sklearn.compose import ColumnTransformer"
   ]
  },
  {
   "cell_type": "code",
   "execution_count": 4,
   "metadata": {},
   "outputs": [
    {
     "name": "stdout",
     "output_type": "stream",
     "text": [
      "[[37 'male' 34.1 4 'yes' 'southwest']\n",
      " [18 'male' 34.43 0 'no' 'southeast']\n",
      " [23 'female' 36.67 2 'yes' 'northeast']\n",
      " ...\n",
      " [40 'male' 25.08 0 'no' 'southeast']\n",
      " [19 'male' 35.53 0 'no' 'northwest']\n",
      " [33 'female' 18.5 1 'no' 'southwest']]\n"
     ]
    }
   ],
   "source": [
    "data = pd.read_csv(\"./insurance.csv\")\n",
    "\n",
    "x_train, x_test, y_train, y_test = train_test_split(data.values[:,:-1], data.values[:,-1], test_size=0.2, random_state = 0)\n",
    "\n",
    "\n",
    "ct = ColumnTransformer( [('ordinal', OrdinalEncoder(handle_unknown=\"use_encoded_value\", unknown_value=-1), [1,4,5]),('non_transformed','passthrough',[0,2,3])])\n",
    "print(x_train)"
   ]
  },
  {
   "cell_type": "code",
   "execution_count": 3,
   "metadata": {},
   "outputs": [
    {
     "name": "stdout",
     "output_type": "stream",
     "text": [
      "[[1.0 1.0 3.0 37 34.1 4]\n",
      " [1.0 0.0 2.0 18 34.43 0]\n",
      " [0.0 1.0 0.0 23 36.67 2]\n",
      " ...\n",
      " [1.0 0.0 2.0 40 25.08 0]\n",
      " [1.0 0.0 1.0 19 35.53 0]\n",
      " [0.0 0.0 3.0 33 18.5 1]]\n"
     ]
    }
   ],
   "source": [
    "x_train = ct.fit_transform(x_train)\n",
    "print(x_train)"
   ]
  }
 ],
 "metadata": {
  "interpreter": {
   "hash": "b959af8eed21187e60ba702cd3a97a88d40ab7a7d5f0cec1d3cc47da26e57183"
  },
  "kernelspec": {
   "display_name": "Python 3.8.12 ('strive')",
   "language": "python",
   "name": "python3"
  },
  "language_info": {
   "codemirror_mode": {
    "name": "ipython",
    "version": 3
   },
   "file_extension": ".py",
   "mimetype": "text/x-python",
   "name": "python",
   "nbconvert_exporter": "python",
   "pygments_lexer": "ipython3",
   "version": "3.9.7"
  },
  "orig_nbformat": 4
 },
 "nbformat": 4,
 "nbformat_minor": 2
}
