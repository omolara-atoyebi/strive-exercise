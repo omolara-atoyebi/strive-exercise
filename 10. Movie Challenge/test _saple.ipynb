{
 "cells": [
  {
   "cell_type": "code",
   "execution_count": 7,
   "metadata": {},
   "outputs": [],
   "source": [
    "import pandas as pd\n",
    "import csv\n",
    "import numpy as np\n",
    "import matplotlib.pyplot as plt"
   ]
  },
  {
   "cell_type": "code",
   "execution_count": 3,
   "metadata": {},
   "outputs": [
    {
     "name": "stdout",
     "output_type": "stream",
     "text": [
      "                          title  \\\n",
      "0            Mad Max: Fury Road   \n",
      "1                     Gone Girl   \n",
      "2                      Die Hard   \n",
      "3                    Black Swan   \n",
      "4    X-Men: Days of Future Past   \n",
      "5                         Logan   \n",
      "6                        Aliens   \n",
      "7  Kingsman: The Secret Service   \n",
      "8                          Argo   \n",
      "9                         Taken   \n",
      "\n",
      "                                         description  release  \\\n",
      "0  In a post-apocalyptic wasteland, a woman rebel...     2015   \n",
      "1  With his wife's disappearance having become th...     2014   \n",
      "2  An NYPD officer tries to save his wife and sev...     1988   \n",
      "3  A committed dancer struggles to maintain her s...     2010   \n",
      "4  The X-Men send Wolverine to the past in a desp...     2014   \n",
      "5  In a future where mutants are nearly extinct, ...     2017   \n",
      "6  Fifty-seven years after surviving an apocalypt...     1986   \n",
      "7  A spy organisation recruits a promising street...     2014   \n",
      "8  Acting under the cover of a Hollywood producer...     2012   \n",
      "9  A retired CIA agent travels across Europe and ...     2008   \n",
      "\n",
      "           director  rating  duration   votes                       genre  \\\n",
      "0     George Miller     8.1       120  872463   Action, Adventure, Sci-Fi   \n",
      "1     David Fincher     8.1       149  850088    Drama, Mystery, Thriller   \n",
      "2    John McTiernan     8.2       132  779370            Action, Thriller   \n",
      "3  Darren Aronofsky     8.0       108  694448             Drama, Thriller   \n",
      "4      Bryan Singer     7.9       132  656330   Action, Adventure, Sci-Fi   \n",
      "5     James Mangold     8.1       137  640427       Action, Drama, Sci-Fi   \n",
      "6     James Cameron     8.3       137  648225   Action, Adventure, Sci-Fi   \n",
      "7    Matthew Vaughn     7.7       129  586330   Action, Adventure, Comedy   \n",
      "8       Ben Affleck     7.7       120  568892  Biography, Drama, Thriller   \n",
      "9      Pierre Morel     7.8        90  562306            Action, Thriller   \n",
      "\n",
      "                                               stars  budget ($ Mil)  \\\n",
      "0  Tom Hardy, Charlize Theron, Nicholas Hoult, Zo...          154.06   \n",
      "1  Ben Affleck, Rosamund Pike, Neil Patrick Harri...          167.77   \n",
      "2  Bruce Willis, Alan Rickman, Bonnie Bedelia, Re...           83.01   \n",
      "3  Natalie Portman, Mila Kunis, Vincent Cassel, W...          106.95   \n",
      "4  Patrick Stewart, Ian McKellen, Hugh Jackman, J...          233.92   \n",
      "5  Hugh Jackman, Patrick Stewart, Dafne Keen, Boy...          226.28   \n",
      "6  Sigourney Weaver, Michael Biehn, Carrie Henn, ...           85.16   \n",
      "7  Colin Firth, Taron Egerton, Samuel L. Jackson,...          128.26   \n",
      "8  Ben Affleck, Bryan Cranston, John Goodman, Ala...          136.03   \n",
      "9  Liam Neeson, Maggie Grace, Famke Janssen, Lela...          145.00   \n",
      "\n",
      "   Rating / Votes  \n",
      "0        0.092841  \n",
      "1        0.095284  \n",
      "2        0.105213  \n",
      "3        0.115199  \n",
      "4        0.120366  \n",
      "5        0.126478  \n",
      "6        0.128042  \n",
      "7        0.131325  \n",
      "8        0.135351  \n",
      "9        0.138715  \n"
     ]
    }
   ],
   "source": [
    "df = pd.read_csv (r'C:\\Users\\omolara\\Documents\\strive school\\strive-exercise\\10. Movie Challenge\\sample_dataset.csv')\n",
    "print (df)"
   ]
  },
  {
   "cell_type": "code",
   "execution_count": 17,
   "metadata": {},
   "outputs": [
    {
     "name": "stdout",
     "output_type": "stream",
     "text": [
      "           release   rating    duration          votes  budget ($ Mil)  \\\n",
      "count    10.000000  10.0000   10.000000      10.000000       10.000000   \n",
      "mean   2007.800000   7.9900  125.400000  685887.900000      146.644000   \n",
      "std      11.262524   0.2079   16.800794  112455.066635       51.981632   \n",
      "min    1986.000000   7.7000   90.000000  562306.000000       83.010000   \n",
      "25%    2008.500000   7.8250  120.000000  599854.250000      112.277500   \n",
      "50%    2013.000000   8.0500  130.500000  652277.500000      140.515000   \n",
      "75%    2014.000000   8.1000  135.750000  758139.500000      164.342500   \n",
      "max    2017.000000   8.3000  149.000000  872463.000000      233.920000   \n",
      "\n",
      "       Rating / Votes  Rating_duration  Rating_movtime  \n",
      "count       10.000000        10.000000       10.000000  \n",
      "mean         0.118881         0.064814        0.003980  \n",
      "std          0.016325         0.009361        0.000118  \n",
      "min          0.092841         0.054362        0.003823  \n",
      "25%          0.107710         0.059730        0.003894  \n",
      "50%          0.123422         0.061353        0.003998  \n",
      "75%          0.130505         0.066667        0.004021  \n",
      "max          0.138715         0.086667        0.004179  \n"
     ]
    }
   ],
   "source": [
    "df2 = df.assign(Rating_duration= df['rating']/df['duration'])\n",
    "df3 = df2.assign(Rating_movtime= df2['rating']/df2['release'])\n",
    "print (df3.describe())\n",
    "\n",
    "def norm_max_min():\n",
    "    Rating_max_min = df3.copy()\n",
    "    column= 'Rating_duration'\n",
    "    #for cols in Rating_max_min.columns:\n",
    "    Rating_max_min[column] = (Rating_max_min[column] -  Rating_max_min[column].min())/ (Rating_max_min[column].max() - Rating_max_min[column].min())\n",
    "    a = df3.assign(Rating_max_min = Rating_max_min[column])\n",
    "    return a\n",
    "df4 = norm_max_min()\n"
   ]
  },
  {
   "cell_type": "code",
   "execution_count": 20,
   "metadata": {},
   "outputs": [
    {
     "data": {
      "text/plain": [
       "0    2015\n",
       "1    2014\n",
       "2    1988\n",
       "3    2010\n",
       "4    2014\n",
       "5    2017\n",
       "6    1986\n",
       "7    2014\n",
       "8    2012\n",
       "9    2008\n",
       "Name: release, dtype: int64"
      ]
     },
     "execution_count": 20,
     "metadata": {},
     "output_type": "execute_result"
    }
   ],
   "source": [
    "df4['release']"
   ]
  },
  {
   "cell_type": "code",
   "execution_count": 22,
   "metadata": {},
   "outputs": [
    {
     "data": {
      "image/png": "[encoded data removed]",
      "text/plain": [
       "<Figure size 432x288 with 1 Axes>"
      ]
     },
     "metadata": {
      "needs_background": "light"
     },
     "output_type": "display_data"
    }
   ],
   "source": [
    "plt.bar(df4['release'],df4['rating'],width = 1.5, label = 'ratings per year')\n",
    "plt.grid(True,linestyle = '--', color = 'dimgrey')\n",
    "plt.ylabel('release year')\n",
    "plt.xlabel('ratings')\n",
    "plt.legend()\n",
    "plt.show()\n",
    "\n"
   ]
  },
  {
   "cell_type": "code",
   "execution_count": 23,
   "metadata": {},
   "outputs": [
    {
     "data": {
      "text/plain": [
       "<AxesSubplot:xlabel='release', ylabel='rating'>"
      ]
     },
     "execution_count": 23,
     "metadata": {},
     "output_type": "execute_result"
    },
    {
     "data": {
      "image/png": "[encoded data removed]",
      "text/plain": [
       "<Figure size 864x144 with 1 Axes>"
      ]
     },
     "metadata": {
      "needs_background": "light"
     },
     "output_type": "display_data"
    }
   ],
   "source": [
    "df4.plot.scatter(x = 'release', y = 'rating', color = 'darkred', s = 25, figsize = (12,2))"
   ]
  }
 ],
 "metadata": {
  "interpreter": {
   "hash": "77d62469401feb9fb72e52b3625907709e2f62803734f7ac28bec618c4adbb1d"
  },
  "kernelspec": {
   "display_name": "Python 3.9.10 64-bit (windows store)",
   "language": "python",
   "name": "python3"
  },
  "language_info": {
   "codemirror_mode": {
    "name": "ipython",
    "version": 3
   },
   "file_extension": ".py",
   "mimetype": "text/x-python",
   "name": "python",
   "nbconvert_exporter": "python",
   "pygments_lexer": "ipython3",
   "version": "3.8.12"
  },
  "orig_nbformat": 4
 },
 "nbformat": 4,
 "nbformat_minor": 2
}
